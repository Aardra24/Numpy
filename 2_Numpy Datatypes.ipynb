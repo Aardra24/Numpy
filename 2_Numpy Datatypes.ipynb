{
 "cells": [
  {
   "cell_type": "markdown",
   "id": "e88fff75-8787-4e31-9188-45ebd266c8f2",
   "metadata": {},
   "source": [
    "## Data Types"
   ]
  },
  {
   "cell_type": "markdown",
   "id": "c1257c6d-3fe5-4ba4-8a29-a1124bc6504e",
   "metadata": {},
   "source": [
    "## **Boolean**"
   ]
  },
  {
   "cell_type": "code",
   "execution_count": 8,
   "id": "78d115e9-8e84-410e-b249-5fb34c5d1d73",
   "metadata": {},
   "outputs": [],
   "source": [
    "import numpy as np"
   ]
  },
  {
   "cell_type": "code",
   "execution_count": 17,
   "id": "3fd7305c-d5d1-4602-9e27-c8092eeb44af",
   "metadata": {},
   "outputs": [
    {
     "name": "stdout",
     "output_type": "stream",
     "text": [
      "<class 'numpy.bool_'>\n"
     ]
    }
   ],
   "source": [
    "a = np.bool_(True)\n",
    "print(type(a))"
   ]
  },
  {
   "cell_type": "markdown",
   "id": "42a8cde1-cba5-4d0f-a2a3-5dc12110af51",
   "metadata": {},
   "source": [
    "## **Integer Types**"
   ]
  },
  {
   "cell_type": "markdown",
   "id": "3722a71d-2366-4306-81d5-318910278480",
   "metadata": {},
   "source": [
    "### 1. `int_`\n",
    "- **Description**: This is the general-purpose integer type.\n",
    "- **Example**: Counting the number of apples you have.\n",
    "  \n",
    "\n",
    "  \n",
    "\n"
   ]
  },
  {
   "cell_type": "code",
   "execution_count": 20,
   "id": "f08e888a-7804-4484-ac54-1894ba6d7a40",
   "metadata": {},
   "outputs": [
    {
     "name": "stdout",
     "output_type": "stream",
     "text": [
      "5\n"
     ]
    }
   ],
   "source": [
    "import numpy as np\n",
    "num_apples = np.int_(5)\n",
    "print(num_apples)"
   ]
  },
  {
   "cell_type": "markdown",
   "id": "afde25df-3350-4d3f-b1a7-9d4dc78f8552",
   "metadata": {},
   "source": [
    "### 2. `intc`\n",
    "- **Description**: Similar to the standard `int` in C programming.\n",
    "- **Example**: Counting the number of chairs in a room.\n"
   ]
  },
  {
   "cell_type": "code",
   "execution_count": 23,
   "id": "4817be0f-7246-4fef-9f86-60d281541ea1",
   "metadata": {},
   "outputs": [
    {
     "name": "stdout",
     "output_type": "stream",
     "text": [
      "10\n"
     ]
    }
   ],
   "source": [
    "import numpy as np\n",
    "num_chairs = np.intc(10)\n",
    "print(num_chairs)"
   ]
  },
  {
   "cell_type": "markdown",
   "id": "082d3893-54fe-42d4-998b-de6eddedeeb1",
   "metadata": {},
   "source": [
    "### 3. `intp`\n",
    "- **Description**: Used for indexing, like finding positions in a list.\n",
    "- **Example**: Position of a book on a shelf.\n",
    " \n",
    "\n"
   ]
  },
  {
   "cell_type": "code",
   "execution_count": 26,
   "id": "d1f1650e-d54b-4782-8293-16b08e347b37",
   "metadata": {},
   "outputs": [
    {
     "name": "stdout",
     "output_type": "stream",
     "text": [
      "3\n"
     ]
    }
   ],
   "source": [
    "import numpy as np\n",
    "book_position = np.intp(3)\n",
    "print(book_position) "
   ]
  },
  {
   "cell_type": "markdown",
   "id": "e4d3b6f4-78c8-467b-b8b0-7b53e0ee87fc",
   "metadata": {},
   "source": [
    "### 4. `int8`\n",
    "- **Description**: Very small integers.\n",
    "- **Example**: Keeping track of a small inventory, like the number of pens in a pencil case (up to 127).\n",
    " \n",
    "\n"
   ]
  },
  {
   "cell_type": "code",
   "execution_count": 29,
   "id": "69072de3-a522-4112-af36-2179c8d78ad7",
   "metadata": {},
   "outputs": [
    {
     "name": "stdout",
     "output_type": "stream",
     "text": [
      "15\n"
     ]
    }
   ],
   "source": [
    "import numpy as np\n",
    "num_pens = np.int8(15)\n",
    "print(num_pens)  \n",
    "  "
   ]
  },
  {
   "cell_type": "markdown",
   "id": "116e5521-e16a-4a68-a08a-768a32bf9001",
   "metadata": {},
   "source": [
    "### 5. `int16`\n",
    "- **Description**: Small to medium-sized integers.\n",
    "- **Example**: Counting the number of students in a small school (up to 32,767).\n",
    "\n",
    "\n"
   ]
  },
  {
   "cell_type": "code",
   "execution_count": 32,
   "id": "9387ee51-9466-491d-9a64-57a2f4cda929",
   "metadata": {},
   "outputs": [
    {
     "name": "stdout",
     "output_type": "stream",
     "text": [
      "500\n"
     ]
    }
   ],
   "source": [
    "import numpy as np\n",
    "num_students = np.int16(500)\n",
    "print(num_students)"
   ]
  },
  {
   "cell_type": "markdown",
   "id": "0c6b1349-a113-4542-aa36-64b5272b1a47",
   "metadata": {},
   "source": [
    "### 6. `int32`\n",
    "- **Description**: Medium to large-sized integers.\n",
    "- **Example**: Counting the population of a small town (up to 2,147,483,647).\n",
    " \n",
    "  \n",
    "\n"
   ]
  },
  {
   "cell_type": "code",
   "execution_count": 35,
   "id": "db34efa3-6427-40de-abb3-2f0790f2a9a5",
   "metadata": {},
   "outputs": [
    {
     "name": "stdout",
     "output_type": "stream",
     "text": [
      "15000\n"
     ]
    }
   ],
   "source": [
    "import numpy as np\n",
    "town_population = np.int32(15000)\n",
    "print(town_population)"
   ]
  },
  {
   "cell_type": "markdown",
   "id": "e8ef94c4-fec9-497a-80b1-aece5cc68354",
   "metadata": {},
   "source": [
    "### 7. `int64`\n",
    "- **Description**: Very large integers.\n",
    "- **Example**: Keeping track of the national debt of a large country.\n",
    "  \n",
    "\n",
    "\n",
    "  "
   ]
  },
  {
   "cell_type": "code",
   "execution_count": 42,
   "id": "0d97f88a-ff80-40da-ae37-1151fa1dc547",
   "metadata": {},
   "outputs": [
    {
     "name": "stdout",
     "output_type": "stream",
     "text": [
      "20000000000\n"
     ]
    }
   ],
   "source": [
    "import numpy as np\n",
    "national_debt = np.int64(20000000000)\n",
    "print(national_debt)  "
   ]
  },
  {
   "cell_type": "markdown",
   "id": "66aa8a22-1182-4554-aba0-f518f3ffd619",
   "metadata": {},
   "source": [
    "### 8. `uint8`\n",
    "- **Description**: Small positive integers.\n",
    "- **Example**: Counting the number of pages in a small booklet (0 to 255).\n",
    " \n",
    "\n"
   ]
  },
  {
   "cell_type": "code",
   "execution_count": 45,
   "id": "dfc98c20-40a3-4cb1-baa6-67f83072a8a1",
   "metadata": {},
   "outputs": [
    {
     "name": "stdout",
     "output_type": "stream",
     "text": [
      "120\n"
     ]
    }
   ],
   "source": [
    "import numpy as np\n",
    "num_pages = np.uint8(120)\n",
    "print(num_pages)"
   ]
  },
  {
   "cell_type": "markdown",
   "id": "ba84c699-1a6b-4949-98c9-d32930709280",
   "metadata": {},
   "source": [
    "### 9. `uint16`\n",
    "- **Description**: Medium-sized positive integers.\n",
    "- **Example**: Tracking the number of visitors to a small amusement park in a day (0 to 65,535).\n",
    "  \n",
    "\n"
   ]
  },
  {
   "cell_type": "code",
   "execution_count": 48,
   "id": "422e5df0-bd39-4d0f-8746-0fe3f6b155df",
   "metadata": {},
   "outputs": [
    {
     "name": "stdout",
     "output_type": "stream",
     "text": [
      "45000\n"
     ]
    }
   ],
   "source": [
    "import numpy as np\n",
    "num_visitors = np.uint16(45000)\n",
    "print(num_visitors)"
   ]
  },
  {
   "cell_type": "markdown",
   "id": "f6e44336-02ee-4b6d-bc77-1b777742f721",
   "metadata": {},
   "source": [
    "### 10. `uint32`\n",
    "- **Description**: Large positive integers.\n",
    "- **Example**: Counting the number of views on a popular YouTube video (0 to 4,294,967,295).\n",
    "  \n"
   ]
  },
  {
   "cell_type": "code",
   "execution_count": 51,
   "id": "24d2e48f-ae65-4665-8563-3bc0f3ab4a2a",
   "metadata": {},
   "outputs": [
    {
     "name": "stdout",
     "output_type": "stream",
     "text": [
      "3000000000\n"
     ]
    }
   ],
   "source": [
    "import numpy as np\n",
    "num_views = np.uint32(3000000000)\n",
    "print(num_views) "
   ]
  },
  {
   "cell_type": "markdown",
   "id": "01ca4ce3-c8f8-4d22-969a-12da1ab66948",
   "metadata": {},
   "source": [
    "\n",
    "### 11. `uint64`\n",
    "- **Description**: Very large positive integers.\n",
    "- **Example**: Tracking the number of stars in the observable universe (a very large number).\n",
    "  "
   ]
  },
  {
   "cell_type": "code",
   "execution_count": 54,
   "id": "498c7c53-0f11-4a8d-89ac-e2fbbbd74232",
   "metadata": {},
   "outputs": [
    {
     "name": "stdout",
     "output_type": "stream",
     "text": [
      "1000000000000000000\n"
     ]
    }
   ],
   "source": [
    "import numpy as np\n",
    "num_stars = np.uint64(1000000000000000000)\n",
    "print(num_stars)"
   ]
  },
  {
   "cell_type": "markdown",
   "id": "ef50316c-0535-45a9-b6d3-635ca9ef7c23",
   "metadata": {},
   "source": [
    "## **Float**"
   ]
  },
  {
   "cell_type": "markdown",
   "id": "e9e2ba80-f0a8-4af1-ab07-c6b4839a6e86",
   "metadata": {},
   "source": [
    "1. **`float_`** and **`float64`**: These types are used when you need high precision for your calculations, like scientific computations or financial calculations where accuracy is crucial.\n",
    "   - **Example**: Calculating the total amount in a bank account after interest.\n",
    "    "
   ]
  },
  {
   "cell_type": "code",
   "execution_count": 60,
   "id": "10cdd95a-358f-4187-89b8-e55b06f5f7e7",
   "metadata": {},
   "outputs": [
    {
     "name": "stdout",
     "output_type": "stream",
     "text": [
      "1000.456789\n"
     ]
    }
   ],
   "source": [
    "import numpy as np\n",
    "total_amount = np.float64(1000.456789)\n",
    "print(total_amount)"
   ]
  },
  {
   "cell_type": "markdown",
   "id": "0d3a9817-5567-4c36-b8bc-68aa99d22f23",
   "metadata": {},
   "source": [
    "2. **`float32`**: This type is used when you need a balance between precision and memory usage. It is more precise than `float16` but uses less memory than `float64`.\n",
    "   - **Example**: Storing the height of a person in centimeters.\n",
    "     \n",
    "      \n",
    "\n"
   ]
  },
  {
   "cell_type": "code",
   "execution_count": 65,
   "id": "bd575e5c-2de3-4455-aff8-b8619d6220dd",
   "metadata": {},
   "outputs": [
    {
     "name": "stdout",
     "output_type": "stream",
     "text": [
      "175.25\n"
     ]
    }
   ],
   "source": [
    "import numpy as np\n",
    "height_cm = np.float32(175.25)\n",
    "print(height_cm) "
   ]
  },
  {
   "cell_type": "markdown",
   "id": "4135a81b-5102-44e0-a537-97f9c89b0320",
   "metadata": {},
   "source": [
    "3. **`float16`**: This type is used when memory is very constrained, and you can afford to lose some precision.\n",
    "   - **Example**: Storing rough temperature readings from multiple sensors.\n",
    "     "
   ]
  },
  {
   "cell_type": "code",
   "execution_count": 68,
   "id": "56103cbd-f917-465a-97d7-758aa8313d38",
   "metadata": {},
   "outputs": [
    {
     "name": "stdout",
     "output_type": "stream",
     "text": [
      "22.5\n"
     ]
    }
   ],
   "source": [
    "import numpy as np\n",
    "sensor_temp = np.float16(22.5)\n",
    "print(sensor_temp)"
   ]
  }
 ],
 "metadata": {
  "kernelspec": {
   "display_name": "Python 3 (ipykernel)",
   "language": "python",
   "name": "python3"
  },
  "language_info": {
   "codemirror_mode": {
    "name": "ipython",
    "version": 3
   },
   "file_extension": ".py",
   "mimetype": "text/x-python",
   "name": "python",
   "nbconvert_exporter": "python",
   "pygments_lexer": "ipython3",
   "version": "3.12.4"
  }
 },
 "nbformat": 4,
 "nbformat_minor": 5
}
