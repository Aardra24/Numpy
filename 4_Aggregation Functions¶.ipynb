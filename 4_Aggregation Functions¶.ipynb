{
 "cells": [
  {
   "cell_type": "markdown",
   "id": "c6412cf5-d7b0-43ec-9fe5-5b0eefc23d8a",
   "metadata": {},
   "source": [
    "### Aggregation Functions\n",
    "\n",
    "Aggregation functions are used to summarize data. Common aggregation functions include sum, mean, and max, which reduce an array to a single number.\n",
    "\n",
    "\n",
    " "
   ]
  },
  {
   "cell_type": "markdown",
   "id": "3819e886-a5e1-4301-91b5-eadba72114cf",
   "metadata": {},
   "source": [
    "#### Basic Aggregates\n"
   ]
  },
  {
   "cell_type": "markdown",
   "id": "bb5f1737-fe1f-458d-a854-28f6fb154844",
   "metadata": {},
   "source": [
    "**1. Sum**\n",
    "\n",
    "Sum adds all the elements in an array together."
   ]
  },
  {
   "cell_type": "code",
   "execution_count": 135,
   "id": "7554697d-042a-4f15-b8f3-fba9af5bc003",
   "metadata": {},
   "outputs": [
    {
     "name": "stdout",
     "output_type": "stream",
     "text": [
      "15\n"
     ]
    }
   ],
   "source": [
    "import numpy as np\n",
    "\n",
    "array = np.array([1, 2, 3, 4, 5])\n",
    "total_sum = np.sum(array)\n",
    "print(total_sum) "
   ]
  },
  {
   "cell_type": "markdown",
   "id": "ce327bfd-9215-44dd-956c-256e5a2c7b81",
   "metadata": {},
   "source": [
    "**2. Product**\n",
    "\n",
    "Product multiplies all the elements in an array."
   ]
  },
  {
   "cell_type": "code",
   "execution_count": 138,
   "id": "0621b4b1-f3f1-481f-9af1-b103633ce0b6",
   "metadata": {},
   "outputs": [
    {
     "name": "stdout",
     "output_type": "stream",
     "text": [
      "120\n"
     ]
    }
   ],
   "source": [
    "total_product = np.prod(array)\n",
    "print(total_product)  "
   ]
  },
  {
   "cell_type": "markdown",
   "id": "2fe8b1e3-fa73-4f18-bdce-d724bf7c66e0",
   "metadata": {},
   "source": [
    "**3. Mean**\n",
    "\n",
    "Mean calculates the average value of the elements."
   ]
  },
  {
   "cell_type": "code",
   "execution_count": 142,
   "id": "8e420d69-92ee-4240-a5ad-b42c69165bcc",
   "metadata": {},
   "outputs": [
    {
     "name": "stdout",
     "output_type": "stream",
     "text": [
      "3.0\n"
     ]
    }
   ],
   "source": [
    "average = np.mean(array)\n",
    "print(average)"
   ]
  },
  {
   "cell_type": "markdown",
   "id": "00f4138a-b06b-4c90-bb76-0f4483a025a6",
   "metadata": {},
   "source": [
    "**4. Standard Deviation**\n",
    "\n",
    "Standard Deviation measures how spread out the numbers are.\n"
   ]
  },
  {
   "cell_type": "code",
   "execution_count": 146,
   "id": "b1784e3c-0cf4-4ed3-bb86-088f79f40ba9",
   "metadata": {},
   "outputs": [
    {
     "name": "stdout",
     "output_type": "stream",
     "text": [
      "1.4142135623730951\n"
     ]
    }
   ],
   "source": [
    "std_dev = np.std(array)\n",
    "print(std_dev)  "
   ]
  },
  {
   "cell_type": "markdown",
   "id": "8c4bc23e-6fe9-44a8-93fb-467987b35c0d",
   "metadata": {},
   "source": [
    "\n",
    "A higher standard deviation means the values are more spread out from the mean."
   ]
  },
  {
   "cell_type": "markdown",
   "id": "4ea35f97-e951-41d4-b683-d608f4ae313f",
   "metadata": {},
   "source": [
    "**5. Variance**\n",
    "\n",
    "Variance is the average of the squared differences from the Mean."
   ]
  },
  {
   "cell_type": "code",
   "execution_count": 155,
   "id": "1cfd980c-b1e4-4d1b-97dc-0ad3ab7b5dee",
   "metadata": {},
   "outputs": [
    {
     "name": "stdout",
     "output_type": "stream",
     "text": [
      "2.0\n"
     ]
    }
   ],
   "source": [
    "variance = np.var(array)\n",
    "print(variance)"
   ]
  },
  {
   "cell_type": "markdown",
   "id": "72289b29-21f3-41d4-beeb-e2977388336f",
   "metadata": {},
   "source": [
    "**6. Minimum and Maximum**\n",
    "\n",
    "Minimum finds the smallest number, and Maximum finds the largest."
   ]
  },
  {
   "cell_type": "code",
   "execution_count": 158,
   "id": "93ca6288-940a-4df8-8737-c9d2be75583f",
   "metadata": {},
   "outputs": [
    {
     "name": "stdout",
     "output_type": "stream",
     "text": [
      "1\n",
      "5\n"
     ]
    }
   ],
   "source": [
    "minimum = np.min(array)\n",
    "maximum = np.max(array)\n",
    "print(minimum)  \n",
    "print(maximum)  "
   ]
  },
  {
   "cell_type": "markdown",
   "id": "fe1af953-ff97-4298-aea5-c5de35b3cdbb",
   "metadata": {},
   "source": [
    "**7. Index of Minimum and Maximum**\n",
    "\n",
    "Index of Minimum and Index of Maximum find the position of the smallest and largest numbers."
   ]
  },
  {
   "cell_type": "code",
   "execution_count": 161,
   "id": "58bb181b-3785-447a-9225-81fdc5888c2d",
   "metadata": {},
   "outputs": [
    {
     "name": "stdout",
     "output_type": "stream",
     "text": [
      "0\n",
      "4\n"
     ]
    }
   ],
   "source": [
    "index_min = np.argmin(array)\n",
    "index_max = np.argmax(array)\n",
    "print(index_min)  \n",
    "print(index_max)  "
   ]
  },
  {
   "cell_type": "markdown",
   "id": "28637954-d3fc-4722-b2b7-715d2d87fba0",
   "metadata": {},
   "source": [
    "**8. Median**\n",
    "\n",
    "Median is the middle value when the numbers are sorted."
   ]
  },
  {
   "cell_type": "code",
   "execution_count": 166,
   "id": "edfec2d0-53e8-4709-8229-e319305809d5",
   "metadata": {},
   "outputs": [
    {
     "name": "stdout",
     "output_type": "stream",
     "text": [
      "3.0\n"
     ]
    }
   ],
   "source": [
    "median = np.median(array)\n",
    "print(median) "
   ]
  },
  {
   "cell_type": "markdown",
   "id": "56281435-951d-4cb0-b2f8-1cfe9f2b6a9a",
   "metadata": {},
   "source": [
    "**9. Percentile**\n",
    "\n",
    "Percentile indicates the value below which a given percentage of observations fall."
   ]
  },
  {
   "cell_type": "code",
   "execution_count": 169,
   "id": "da90c475-6598-4a24-a553-ab4fd0c785c1",
   "metadata": {},
   "outputs": [
    {
     "name": "stdout",
     "output_type": "stream",
     "text": [
      "3.0\n"
     ]
    }
   ],
   "source": [
    "percentile_50 = np.percentile(array, 50)\n",
    "print(percentile_50)"
   ]
  },
  {
   "cell_type": "markdown",
   "id": "2753ad8a-0d43-4d6a-8518-94802003443e",
   "metadata": {},
   "source": [
    "**10. Any and All**\n",
    "\n",
    "Any checks if any element is True, and All checks if all elements are True."
   ]
  },
  {
   "cell_type": "code",
   "execution_count": 172,
   "id": "d03aeddb-c853-4d0d-8a6e-28008675945d",
   "metadata": {},
   "outputs": [
    {
     "name": "stdout",
     "output_type": "stream",
     "text": [
      "True\n",
      "False\n"
     ]
    }
   ],
   "source": [
    "array_bool = np.array([True, False, True])\n",
    "\n",
    "any_true = np.any(array_bool)\n",
    "all_true = np.all(array_bool)\n",
    "print(any_true)  \n",
    "print(all_true)  "
   ]
  },
  {
   "cell_type": "markdown",
   "id": "a2a2f910-6146-424f-a87e-dbd7af70ad30",
   "metadata": {},
   "source": [
    "## Example: Average Height of US Presidents"
   ]
  },
  {
   "cell_type": "code",
   "execution_count": 177,
   "id": "5b4f56b2-c964-4b03-b489-5020b685537c",
   "metadata": {},
   "outputs": [
    {
     "name": "stdout",
     "output_type": "stream",
     "text": [
      "Average height: 174.0 cm\n"
     ]
    },
    {
     "data": {
      "image/png": "[encoded data removed]",
      "text/plain": [
       "<Figure size 640x480 with 1 Axes>"
      ]
     },
     "metadata": {},
     "output_type": "display_data"
    }
   ],
   "source": [
    "heights = np.array([170, 180, 175, 160, 185])\n",
    "\n",
    "average_height = np.mean(heights)\n",
    "print(f\"Average height: {average_height} cm\")\n",
    "\n",
    "# Visualize the data\n",
    "import matplotlib.pyplot as plt\n",
    "\n",
    "plt.hist(heights)\n",
    "plt.title('Height Distribution of US Presidents')\n",
    "plt.xlabel('Height (cm)')\n",
    "plt.ylabel('Number')\n",
    "plt.show()"
   ]
  }
 ],
 "metadata": {
  "kernelspec": {
   "display_name": "Python 3 (ipykernel)",
   "language": "python",
   "name": "python3"
  },
  "language_info": {
   "codemirror_mode": {
    "name": "ipython",
    "version": 3
   },
   "file_extension": ".py",
   "mimetype": "text/x-python",
   "name": "python",
   "nbconvert_exporter": "python",
   "pygments_lexer": "ipython3",
   "version": "3.12.4"
  }
 },
 "nbformat": 4,
 "nbformat_minor": 5
}
