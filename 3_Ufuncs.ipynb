{
 "cells": [
  {
   "cell_type": "markdown",
   "id": "2dbf16e0-d743-4bff-9bc2-7b41467079ca",
   "metadata": {},
   "source": [
    "## Computation on Array: Universal Function"
   ]
  },
  {
   "cell_type": "markdown",
   "id": "8151c714-20a6-4efb-b014-129939ec9abc",
   "metadata": {},
   "source": [
    "### Why Loops in Python Can Be Slow?\n",
    "\n",
    "In Python, doing operations repeatedly using loops can be slow because Python is an interpreted language. This means that Python code is executed line by line, and each time an operation is performed, Python has to check the type of the data and find the correct function to use. This type checking and function dispatching takes time and slows down the execution, especially for large datasets.\n",
    "\n",
    "### Using NumPy's Universal Functions (Ufuncs)\n",
    "\n",
    "NumPy solves this problem by using **universal functions** (ufuncs). Ufuncs are functions that operate element-wise on arrays, which means they perform the same operation on each element of the array. These functions are implemented in a way that they avoid the type checking and function dispatching overhead, making them much faster than using regular Python loops.\n"
   ]
  },
  {
   "cell_type": "markdown",
   "id": "f0284421-13f7-4fbc-8d72-90feda4e9762",
   "metadata": {},
   "source": [
    "#### Example: Computing Reciprocals\n",
    "\n"
   ]
  },
  {
   "cell_type": "code",
   "execution_count": 10,
   "id": "5af43400-5060-4f02-af04-5dbdbccf03de",
   "metadata": {},
   "outputs": [
    {
     "name": "stdout",
     "output_type": "stream",
     "text": [
      "[0.11111111 0.25       1.         0.33333333 0.125     ]\n"
     ]
    }
   ],
   "source": [
    "import numpy as np\n",
    "\n",
    "rng = np.random.default_rng(seed=1701)\n",
    "values = rng.integers(1, 10, size=5)\n",
    "\n",
    "def compute_reciprocals(values):\n",
    "    output = np.empty(len(values))  # Create an empty array to store the results\n",
    "    for i in range(len(values)):\n",
    "        output[i] = 1.0 / values[i]  # Compute the reciprocal\n",
    "    return output\n",
    "\n",
    "print(compute_reciprocals(values))"
   ]
  },
  {
   "cell_type": "markdown",
   "id": "998e50a7-2277-40d0-8f74-cdaaf6a2f165",
   "metadata": {},
   "source": [
    "#### Using Ufuncs for Faster Computation\n",
    "\n",
    "With NumPy, you can perform this operation much faster using ufuncs. Here's how:\n"
   ]
  },
  {
   "cell_type": "code",
   "execution_count": 14,
   "id": "1864002d-6eec-422f-8a56-74bcc29a098b",
   "metadata": {},
   "outputs": [
    {
     "name": "stdout",
     "output_type": "stream",
     "text": [
      "[0.11111111 0.25       1.         0.33333333 0.125     ]\n"
     ]
    }
   ],
   "source": [
    "print(1.0 / values)"
   ]
  },
  {
   "cell_type": "markdown",
   "id": "27be930a-0445-4862-8928-13d6447ed7f9",
   "metadata": {},
   "source": [
    "This single line of code does the same thing as the loop but much faster because it uses NumPy's vectorized operations.\n",
    "\n"
   ]
  },
  {
   "cell_type": "markdown",
   "id": "fd98b239-1307-4a6f-9ae4-4f6c98592ebb",
   "metadata": {},
   "source": [
    "### Comparing Performance\n",
    "\n",
    "Let's see the difference in performance for a large array:\n",
    "\n"
   ]
  },
  {
   "cell_type": "code",
   "execution_count": 37,
   "id": "e32d2e0e-51a7-4c76-8c73-88b956f91ab0",
   "metadata": {},
   "outputs": [
    {
     "name": "stdout",
     "output_type": "stream",
     "text": [
      "1.82 s ± 56.2 ms per loop (mean ± std. dev. of 7 runs, 1 loop each)\n",
      "3.16 ms ± 147 μs per loop (mean ± std. dev. of 7 runs, 100 loops each)\n"
     ]
    }
   ],
   "source": [
    "big_array = rng.integers(1, 100, size=1000000)\n",
    "\n",
    "# time for the loop version\n",
    "%timeit compute_reciprocals(big_array)\n",
    "\n",
    "# time for the ufunc version\n",
    "%timeit (1.0 / big_array)"
   ]
  },
  {
   "cell_type": "markdown",
   "id": "9e21f7ea-9da1-4281-aedd-4fa939bb16fe",
   "metadata": {},
   "source": [
    "### Arithmetic Operations with Ufuncs\n",
    "\n"
   ]
  },
  {
   "cell_type": "code",
   "execution_count": 23,
   "id": "40e17fe5-51a1-4923-b0af-3701be600f35",
   "metadata": {},
   "outputs": [
    {
     "name": "stdout",
     "output_type": "stream",
     "text": [
      "x + 5  = [5 6 7 8]\n",
      "x - 5  = [-5 -4 -3 -2]\n",
      "x * 2  = [0 2 4 6]\n",
      "x / 2  = [0.  0.5 1.  1.5]\n"
     ]
    }
   ],
   "source": [
    "x = np.arange(4)  # Create an array [0, 1, 2, 3]\n",
    "\n",
    "# Perform arithmetic operations\n",
    "print(\"x + 5  =\", x + 5)  # Add 5 to each element\n",
    "print(\"x - 5  =\", x - 5)  # Subtract 5 from each element\n",
    "print(\"x * 2  =\", x * 2)  # Multiply each element by 2\n",
    "print(\"x / 2  =\", x / 2)  # Divide each element by 2"
   ]
  },
  {
   "cell_type": "markdown",
   "id": "38dc10c8-71d6-40e9-88d0-a044d47b5acd",
   "metadata": {},
   "source": [
    "### More Ufuncs\n",
    "\n",
    "NumPy provides many more ufuncs for various mathematical operations, such as:\n",
    "\n",
    "- Trigonometric functions: `np.sin`, `np.cos`, `np.tan`\n",
    "- Exponential and logarithmic functions: `np.exp`, `np.log`\n",
    "- Aggregate functions: `np.sum`, `np.prod`\n",
    "- And many more!\n",
    "\n"
   ]
  },
  {
   "cell_type": "markdown",
   "id": "6971b174-a55a-4bc2-bc40-7c4afe209948",
   "metadata": {},
   "source": [
    "### Example of Ufuncs with Trigonometric Functions\n"
   ]
  },
  {
   "cell_type": "code",
   "execution_count": 34,
   "id": "2b05fa5f-c447-41a0-ad59-4a35e24e4501",
   "metadata": {},
   "outputs": [
    {
     "name": "stdout",
     "output_type": "stream",
     "text": [
      "sin(theta) = [0.0000000e+00 1.0000000e+00 1.2246468e-16]\n",
      "cos(theta) = [ 1.000000e+00  6.123234e-17 -1.000000e+00]\n",
      "tan(theta) = [ 0.00000000e+00  1.63312394e+16 -1.22464680e-16]\n"
     ]
    }
   ],
   "source": [
    "theta = np.linspace(0, np.pi, 3)  # Create an array of angles\n",
    "print(\"sin(theta) =\", np.sin(theta))  \n",
    "print(\"cos(theta) =\", np.cos(theta)) \n",
    "print(\"tan(theta) =\", np.tan(theta))  "
   ]
  },
  {
   "cell_type": "markdown",
   "id": "6d44a7b7-b408-4458-8e66-19aa7a808d36",
   "metadata": {},
   "source": [
    "\n",
    "### Special Functions in SciPy\n",
    "\n"
   ]
  },
  {
   "cell_type": "code",
   "execution_count": null,
   "id": "feb0dde6-7648-4162-85b5-cfc6e5342aaa",
   "metadata": {},
   "outputs": [],
   "source": [
    "from scipy import special\n",
    "\n",
    "x = [1, 5, 10]\n",
    "print(\"gamma(x) =\", special.gamma(x))  # Compute the gamma function for each element\n"
   ]
  }
 ],
 "metadata": {
  "kernelspec": {
   "display_name": "Python 3 (ipykernel)",
   "language": "python",
   "name": "python3"
  },
  "language_info": {
   "codemirror_mode": {
    "name": "ipython",
    "version": 3
   },
   "file_extension": ".py",
   "mimetype": "text/x-python",
   "name": "python",
   "nbconvert_exporter": "python",
   "pygments_lexer": "ipython3",
   "version": "3.12.4"
  }
 },
 "nbformat": 4,
 "nbformat_minor": 5
}
