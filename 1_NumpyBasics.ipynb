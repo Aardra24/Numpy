{
 "cells": [
  {
   "cell_type": "markdown",
   "id": "6712d22f-decb-4771-8e63-a608a8aa4ab0",
   "metadata": {},
   "source": [
    "## Numpy"
   ]
  },
  {
   "cell_type": "markdown",
   "id": "04877aeb-dea3-4f6d-b780-5ea4385e7f9e",
   "metadata": {},
   "source": [
    "NumPy stands for Numerical Python, is an open-source Python library that provides support for large, multi-dimensional arrays and matrices.\n",
    "\n",
    "It also have a collection of high-level mathematical functions to operate on arrays. It was created by Travis Oliphant in 2005."
   ]
  },
  {
   "cell_type": "markdown",
   "id": "23debf17-5680-4d7b-8da1-c6c3d3781ca0",
   "metadata": {},
   "source": [
    "Features of NumPy\n",
    "\n",
    "NumPy has various features which make them popular over lists.\n",
    "\n",
    "Some of these important features include:\n",
    "\n",
    "- A powerful N-dimensional array object\n",
    "- Sophisticated (broadcasting) functions\n",
    "- Tools for integrating C/C++ and Fortran code\n",
    "- Useful linear algebra, Fourier transform, and random number capabilities"
   ]
  },
  {
   "cell_type": "code",
   "execution_count": 8,
   "id": "a53585ba-f152-4770-acd6-12ec8147a7ee",
   "metadata": {},
   "outputs": [],
   "source": [
    "import numpy as np"
   ]
  },
  {
   "cell_type": "markdown",
   "id": "b6fc0fe5-f0fb-47a0-be48-76bfcdd00de1",
   "metadata": {},
   "source": [
    "**Creation of 1D Array**"
   ]
  },
  {
   "cell_type": "code",
   "execution_count": 10,
   "id": "e46e0344-4a63-4cb8-af46-0d5cd82f2075",
   "metadata": {},
   "outputs": [
    {
     "name": "stdout",
     "output_type": "stream",
     "text": [
      "[1 2 3 4]\n"
     ]
    }
   ],
   "source": [
    "a = np.array([1,2,3,4])\n",
    "print(a)"
   ]
  },
  {
   "cell_type": "markdown",
   "id": "63838cb0-1f32-4e75-9086-9c78d69b4a79",
   "metadata": {},
   "source": [
    "**Creation of 2D Array**"
   ]
  },
  {
   "cell_type": "code",
   "execution_count": 12,
   "id": "39d97c2d-6569-4878-bb46-d22199ac6314",
   "metadata": {},
   "outputs": [
    {
     "name": "stdout",
     "output_type": "stream",
     "text": [
      "[[1 2 3]\n",
      " [4 5 6]]\n"
     ]
    }
   ],
   "source": [
    "b = np.array([[1,2,3],[4,5,6]])\n",
    "print(b)"
   ]
  },
  {
   "cell_type": "markdown",
   "id": "4fac8f9f-3426-4d7b-8aa9-a11cc6d9ee6a",
   "metadata": {},
   "source": [
    "**Creation of 3D Array**"
   ]
  },
  {
   "cell_type": "code",
   "execution_count": 10,
   "id": "4b77bda6-dbde-43d6-b476-0c3086d1d820",
   "metadata": {},
   "outputs": [
    {
     "name": "stdout",
     "output_type": "stream",
     "text": [
      "[[[1 2 3]]\n",
      "\n",
      " [[4 5 6]]\n",
      "\n",
      " [[7 8 9]]]\n"
     ]
    }
   ],
   "source": [
    "c = np.array([[[1,2,3]],\n",
    "              \n",
    "              [[4,5,6]],\n",
    "              \n",
    "              [[7,8,9]]])\n",
    "print(c)"
   ]
  },
  {
   "cell_type": "markdown",
   "id": "88a062ae-5cf4-4608-a0f7-9731e1b4a5d2",
   "metadata": {},
   "source": [
    "**Shape**"
   ]
  },
  {
   "cell_type": "code",
   "execution_count": 49,
   "id": "c233d573-5f15-4cf3-a26e-6946362af180",
   "metadata": {},
   "outputs": [
    {
     "name": "stdout",
     "output_type": "stream",
     "text": [
      "(3, 1, 3)\n"
     ]
    }
   ],
   "source": [
    "print(c.shape)"
   ]
  },
  {
   "cell_type": "markdown",
   "id": "779bff3a-86f1-4fbd-a90a-3ed263305324",
   "metadata": {},
   "source": [
    "**Size**"
   ]
  },
  {
   "cell_type": "code",
   "execution_count": 18,
   "id": "e36a4a44-1583-4b7f-915b-a69a1d2d4b3a",
   "metadata": {},
   "outputs": [
    {
     "name": "stdout",
     "output_type": "stream",
     "text": [
      "6\n"
     ]
    }
   ],
   "source": [
    "print(b.size)"
   ]
  },
  {
   "cell_type": "markdown",
   "id": "aed5d1f9-fc55-448d-a74b-1d0ce404f35a",
   "metadata": {},
   "source": [
    "**Dimension**"
   ]
  },
  {
   "cell_type": "code",
   "execution_count": 20,
   "id": "0ebd4373-f273-49a8-bed1-02dd560c1e94",
   "metadata": {},
   "outputs": [
    {
     "name": "stdout",
     "output_type": "stream",
     "text": [
      "1\n"
     ]
    }
   ],
   "source": [
    "print(a.ndim)"
   ]
  },
  {
   "cell_type": "markdown",
   "id": "6e309e6a-ca89-4357-93fe-6eafcef34387",
   "metadata": {},
   "source": [
    "**Indexing**"
   ]
  },
  {
   "cell_type": "markdown",
   "id": "2b87c055-14d9-4668-ac58-6c6bfbcbb9bb",
   "metadata": {},
   "source": [
    "## Common Functions"
   ]
  },
  {
   "cell_type": "markdown",
   "id": "946e888c-af53-4cf5-b0db-e37f6174341a",
   "metadata": {},
   "source": [
    "**zeros**"
   ]
  },
  {
   "cell_type": "code",
   "execution_count": 66,
   "id": "ae93c65f-1da0-4b38-bca9-58991a861b9b",
   "metadata": {},
   "outputs": [
    {
     "name": "stdout",
     "output_type": "stream",
     "text": [
      "[[[0. 0. 0. 0. 0.]\n",
      "  [0. 0. 0. 0. 0.]]\n",
      "\n",
      " [[0. 0. 0. 0. 0.]\n",
      "  [0. 0. 0. 0. 0.]]\n",
      "\n",
      " [[0. 0. 0. 0. 0.]\n",
      "  [0. 0. 0. 0. 0.]]]\n"
     ]
    }
   ],
   "source": [
    "print(np.zeros([3,2,5]))"
   ]
  },
  {
   "cell_type": "markdown",
   "id": "baf1efeb-ee7e-4adc-a8b8-ff3e1907b00e",
   "metadata": {},
   "source": [
    "**ones**"
   ]
  },
  {
   "cell_type": "code",
   "execution_count": 71,
   "id": "f021e132-10c9-4dd8-a45f-fc50cceb6c39",
   "metadata": {},
   "outputs": [
    {
     "name": "stdout",
     "output_type": "stream",
     "text": [
      "[[1. 1.]\n",
      " [1. 1.]\n",
      " [1. 1.]\n",
      " [1. 1.]]\n"
     ]
    }
   ],
   "source": [
    "print(np.ones([4,2]))"
   ]
  },
  {
   "cell_type": "markdown",
   "id": "5f2f2c0e-f5ef-401e-ada2-a9426e3dd2fc",
   "metadata": {},
   "source": [
    "**Full Numpy Array**"
   ]
  },
  {
   "cell_type": "code",
   "execution_count": 76,
   "id": "b2da5228-78cb-4304-9013-756b634bcc40",
   "metadata": {},
   "outputs": [
    {
     "name": "stdout",
     "output_type": "stream",
     "text": [
      "[[1 1]\n",
      " [1 1]\n",
      " [1 1]]\n"
     ]
    }
   ],
   "source": [
    "print(np.full([3,2],1))"
   ]
  },
  {
   "cell_type": "markdown",
   "id": "de4e6245-e0ea-48ee-a671-2613082f8191",
   "metadata": {},
   "source": [
    "**Empty**"
   ]
  },
  {
   "cell_type": "code",
   "execution_count": 88,
   "id": "95c42698-f8ec-40ff-b5ce-35d28cdb735a",
   "metadata": {},
   "outputs": [
    {
     "name": "stdout",
     "output_type": "stream",
     "text": [
      "[[9.34577196e-307 9.34598246e-307 1.60218491e-306]\n",
      " [1.69119873e-306 1.24611673e-306 1.16824951e-307]]\n"
     ]
    }
   ],
   "source": [
    "print(np.empty([2,3]))"
   ]
  },
  {
   "cell_type": "markdown",
   "id": "5a18502e-190c-4627-adf8-84a94242b9e7",
   "metadata": {},
   "source": [
    "## **Reshaping**"
   ]
  },
  {
   "cell_type": "markdown",
   "id": "589985f0-5d60-4960-8308-6aeb3b6aeae6",
   "metadata": {},
   "source": [
    "**1D to 2D**"
   ]
  },
  {
   "cell_type": "code",
   "execution_count": 94,
   "id": "16583c50-e17a-46af-bfd8-01d4fd127456",
   "metadata": {},
   "outputs": [
    {
     "name": "stdout",
     "output_type": "stream",
     "text": [
      "[[1 2 3]\n",
      " [4 5 6]]\n"
     ]
    }
   ],
   "source": [
    "a = np.array([1,2,3,4,5,6])\n",
    "a2d = a.reshape(2,3)\n",
    "print(a2d)"
   ]
  },
  {
   "cell_type": "markdown",
   "id": "614508af-5192-4ddc-b6a8-4c756b8da2e2",
   "metadata": {},
   "source": [
    "**1D to 3D**"
   ]
  },
  {
   "cell_type": "code",
   "execution_count": 185,
   "id": "47f3c023-a9a6-4484-9d04-b544dbcaca2a",
   "metadata": {},
   "outputs": [
    {
     "name": "stdout",
     "output_type": "stream",
     "text": [
      "[[[ 1  2  3]\n",
      "  [ 4  5  6]]\n",
      "\n",
      " [[ 7  8  9]\n",
      "  [10 11 12]]]\n"
     ]
    }
   ],
   "source": [
    "a3d = a.reshape(2,2,3)\n",
    "print(a3d)"
   ]
  },
  {
   "cell_type": "markdown",
   "id": "ff8d28a1-0186-4cae-ae33-f40bea5e4b4e",
   "metadata": {},
   "source": [
    "**2D to 3D**"
   ]
  },
  {
   "cell_type": "code",
   "execution_count": 173,
   "id": "ff90b612-0757-4e00-8d68-93064781f2d0",
   "metadata": {},
   "outputs": [
    {
     "name": "stdout",
     "output_type": "stream",
     "text": [
      "[[[1 2 3]]\n",
      "\n",
      " [[4 5 6]]]\n"
     ]
    }
   ],
   "source": [
    "a3d = a2d.reshape(2,1,3)\n",
    "print(a3d)"
   ]
  },
  {
   "cell_type": "markdown",
   "id": "badb31ce-87d9-4f95-ad7d-1e38e5500f00",
   "metadata": {},
   "source": [
    "**3D to 1D**"
   ]
  },
  {
   "cell_type": "code",
   "execution_count": 132,
   "id": "823b3b5d-9cae-4a65-9db0-1af2cca1d0e0",
   "metadata": {},
   "outputs": [
    {
     "name": "stdout",
     "output_type": "stream",
     "text": [
      "[1 2 3 4 5 6]\n"
     ]
    }
   ],
   "source": [
    "p,m,n = a3d.shape\n",
    "total = m*n*p\n",
    "print(a3d.reshape(total))"
   ]
  },
  {
   "cell_type": "code",
   "execution_count": 119,
   "id": "f228f331-c282-4b92-b88e-3598cd036b09",
   "metadata": {},
   "outputs": [
    {
     "name": "stdout",
     "output_type": "stream",
     "text": [
      "[1 2 3 4 5 6]\n"
     ]
    }
   ],
   "source": [
    "print(a3d.reshape(-1))"
   ]
  },
  {
   "cell_type": "markdown",
   "id": "f10da19a-f5c3-468e-a468-a594e2499995",
   "metadata": {},
   "source": [
    "**3D to 2D**"
   ]
  },
  {
   "cell_type": "code",
   "execution_count": 156,
   "id": "8718317e-d226-4f9e-a575-4db04c58d598",
   "metadata": {},
   "outputs": [
    {
     "name": "stdout",
     "output_type": "stream",
     "text": [
      "Original 3D array:\n",
      "[[[ 1  2  3]\n",
      "  [ 4  5  6]]\n",
      "\n",
      " [[ 7  8  9]\n",
      "  [10 11 12]]]\n"
     ]
    }
   ],
   "source": [
    "\n",
    "a3d = np.array([[[1, 2, 3], \n",
    "                    [4, 5, 6]], \n",
    "                   \n",
    "                   [[7, 8, 9], \n",
    "                    [10, 11, 12]]])\n",
    "\n",
    "print(\"Original 3D array:\")\n",
    "print(a3d)\n"
   ]
  },
  {
   "cell_type": "code",
   "execution_count": 162,
   "id": "24e64a44-f2c9-458b-bf20-e6d66502323b",
   "metadata": {},
   "outputs": [
    {
     "name": "stdout",
     "output_type": "stream",
     "text": [
      "[[ 1]\n",
      " [ 2]\n",
      " [ 3]\n",
      " [ 4]\n",
      " [ 5]\n",
      " [ 6]\n",
      " [ 7]\n",
      " [ 8]\n",
      " [ 9]\n",
      " [10]\n",
      " [11]\n",
      " [12]]\n",
      "2\n"
     ]
    }
   ],
   "source": [
    "print(a3d.reshape(-1,1))\n",
    "print(a3d.reshape(-1,1).ndim)"
   ]
  },
  {
   "cell_type": "code",
   "execution_count": 152,
   "id": "c1af875f-a7c1-42fb-b43c-3edc1a1b3984",
   "metadata": {},
   "outputs": [
    {
     "name": "stdout",
     "output_type": "stream",
     "text": [
      "[[ 1  2  3]\n",
      " [ 4  5  6]\n",
      " [ 7  8  9]\n",
      " [10 11 12]]\n",
      "2\n"
     ]
    }
   ],
   "source": [
    "d,m,n = a3d.shape\n",
    "total = d*m,n\n",
    "# Reshape the 3D array to 2D by combining the first two dimensions\n",
    "print(a3d.reshape(total))\n",
    "print(a3d.reshape(total).ndim)"
   ]
  },
  {
   "cell_type": "code",
   "execution_count": 154,
   "id": "4c3db0b6-7983-4bc1-93f5-ad984a4718fe",
   "metadata": {},
   "outputs": [
    {
     "name": "stdout",
     "output_type": "stream",
     "text": [
      "[[ 1  2  3  4  5  6]\n",
      " [ 7  8  9 10 11 12]]\n",
      "2\n"
     ]
    }
   ],
   "source": [
    "d,m,n = a3d.shape\n",
    "total = d,m*n\n",
    "# Reshape the 3D array to 2D by combining the last two dimensions\n",
    "print(a3d.reshape(total))\n",
    "print(a3d.reshape(total).ndim)"
   ]
  },
  {
   "cell_type": "code",
   "execution_count": 164,
   "id": "a63d9918-7d4f-48c2-9496-4e2025abcae3",
   "metadata": {},
   "outputs": [
    {
     "name": "stdout",
     "output_type": "stream",
     "text": [
      "[[ 1  2  3  4  5  6  7  8  9 10 11 12]]\n",
      "2\n"
     ]
    }
   ],
   "source": [
    "print(a3d.reshape(1,-1))\n",
    "print(a3d.reshape(1,-1).ndim)"
   ]
  },
  {
   "cell_type": "markdown",
   "id": "16ae75d9-e570-4dc1-b713-d43a33cbedfc",
   "metadata": {},
   "source": [
    "The key difference between reshape(-1, 1) and reshape(1, -1) is the shape of the resulting array. reshape(-1, 1) results in an array with a single column and multiple rows (a column vector), while reshape(1, -1) results in an array with a single row and multiple columns (a row vector)."
   ]
  },
  {
   "cell_type": "markdown",
   "id": "6786c6e0-a532-4e8a-ae93-81a3b3aadd15",
   "metadata": {},
   "source": [
    "\n",
    "### Indexing\n",
    "\n",
    "Indexing is used to access individual elements of an array.\n",
    "\n",
    "#### 1D Array Indexing:\n",
    "\n"
   ]
  },
  {
   "cell_type": "code",
   "execution_count": 28,
   "id": "a802d313-993e-4bf1-8975-2a0a55d48705",
   "metadata": {},
   "outputs": [
    {
     "name": "stdout",
     "output_type": "stream",
     "text": [
      "Element at index 0: 10\n",
      "Element at index 3: 40\n"
     ]
    }
   ],
   "source": [
    "import numpy as np\n",
    "\n",
    "# Creating a 1D array\n",
    "arr_1d = np.array([10, 20, 30, 40, 50])\n",
    "\n",
    "# Accessing elements\n",
    "print(\"Element at index 0:\", arr_1d[0]) \n",
    "print(\"Element at index 3:\", arr_1d[3]) "
   ]
  },
  {
   "cell_type": "markdown",
   "id": "2e3563f8-66f7-47c0-b0d8-5b388bffdd1c",
   "metadata": {},
   "source": [
    "\n",
    "#### 2D Array Indexing:\n",
    "\n",
    "\n"
   ]
  },
  {
   "cell_type": "code",
   "execution_count": 30,
   "id": "03e1099f-2120-4a3c-b0a0-474e3353154b",
   "metadata": {},
   "outputs": [
    {
     "name": "stdout",
     "output_type": "stream",
     "text": [
      "Element at row 1, column 2: 6\n",
      "Row 0: [1 2 3]\n",
      "Column 1: [2 5 8]\n"
     ]
    }
   ],
   "source": [
    "# Creating a 2D array\n",
    "arr_2d = np.array([[1, 2, 3], \n",
    "                   [4, 5, 6], \n",
    "                   [7, 8, 9]])\n",
    "\n",
    "# Accessing elements\n",
    "print(\"Element at row 1, column 2:\", arr_2d[1, 2])  # Output: 6\n",
    "\n",
    "# Accessing rows\n",
    "print(\"Row 0:\", arr_2d[0])  # Output: [1 2 3]\n",
    "\n",
    "# Accessing columns\n",
    "print(\"Column 1:\", arr_2d[:, 1])  # Output: [2 5 8]\n"
   ]
  },
  {
   "cell_type": "markdown",
   "id": "90fc0308-0b3a-4ff3-b6f9-532513985e60",
   "metadata": {},
   "source": [
    "\n",
    "\n",
    "### Slicing\n",
    "\n",
    "Slicing is used to access a range of elements.\n",
    "\n",
    "\n"
   ]
  },
  {
   "cell_type": "code",
   "execution_count": 38,
   "id": "56cf2106-f4c6-4442-86fe-49b61835cd2c",
   "metadata": {},
   "outputs": [
    {
     "name": "stdout",
     "output_type": "stream",
     "text": [
      "Elements from index 1 to 3: [20 30 40]\n",
      "Subarray with rows 0 to 1 and columns 1 to 2:\n",
      " [[2 3]\n",
      " [5 6]]\n"
     ]
    }
   ],
   "source": [
    "#1D Array Slicing:\n",
    "\n",
    "print(\"Elements from index 1 to 3:\", arr_1d[1:4])  # Output: [20 30 40]\n",
    "\n",
    "#2D Array Slicing:\n",
    "\n",
    "print(\"Subarray with rows 0 to 1 and columns 1 to 2:\\n\", arr_2d[0:2, 1:3])  # Output: [[2 3] [5 6]]"
   ]
  },
  {
   "cell_type": "markdown",
   "id": "f386f33f-2ec5-4600-adb5-c481e0792b0d",
   "metadata": {},
   "source": [
    "\n",
    "### Concatenating\n",
    "\n",
    "Concatenation is used to join arrays along an existing axis.\n",
    "\n",
    "#### Concatenating 1D Arrays:\n",
    "\n"
   ]
  },
  {
   "cell_type": "code",
   "execution_count": null,
   "id": "c2cf75f9-669c-448e-a289-37d37078aa9c",
   "metadata": {},
   "outputs": [],
   "source": [
    "# Creating two 1D arrays\n",
    "arr1 = np.array([1, 2, 3])\n",
    "arr2 = np.array([4, 5, 6])\n",
    "\n",
    "# Concatenating arrays\n",
    "arr_concat = np.concatenate((arr1, arr2))\n",
    "print(\"Concatenated 1D array:\", arr_concat)  # Output: [1 2 3 4 5 6]\n",
    "\n",
    "\n",
    "\n",
    "\n",
    "\n",
    "\n",
    "#"
   ]
  },
  {
   "cell_type": "code",
   "execution_count": null,
   "id": "6a429264-7a56-496a-a238-3594711797bc",
   "metadata": {},
   "outputs": [],
   "source": [
    "#### Concatenating 2D Arrays:\n",
    "\n",
    "# Creating two 2D arrays\n",
    "arr1_2d = np.array([[1, 2], [3, 4]])\n",
    "arr2_2d = np.array([[5, 6], [7, 8]])\n",
    "\n",
    "# Concatenating arrays along rows (axis=0)\n",
    "arr_concat_2d = np.concatenate((arr1_2d, arr2_2d), axis=0)\n",
    "print(\"Concatenated 2D array along rows:\\n\", arr_concat_2d)\n",
    "# Output:\n",
    "# [[1 2]\n",
    "#  [3 4]\n",
    "#  [5 6]\n",
    "#  [7 8]]\n",
    "\n",
    "# Concatenating arrays along columns (axis=1)\n",
    "arr_concat_2d_cols = np.concatenate((arr1_2d, arr2_2d), axis=1)\n",
    "print(\"Concatenated 2D array along columns:\\n\", arr_concat_2d_cols)\n",
    "# Output:\n",
    "# [[1 2 5 6]\n",
    "#  [3 4 7 8]]"
   ]
  },
  {
   "cell_type": "markdown",
   "id": "29bfdf8b-96fd-4580-8d58-97968dab0cf4",
   "metadata": {},
   "source": [
    "### Splitting\n",
    "\n",
    "Splitting is used to split an array into multiple subarrays."
   ]
  },
  {
   "cell_type": "code",
   "execution_count": null,
   "id": "55dd2857-5ad0-4b89-a738-067457f95fed",
   "metadata": {},
   "outputs": [],
   "source": [
    "### Splitting 1D Array:\n",
    "\n",
    "# Splitting a 1D array\n",
    "arr_split_1d = np.array([1, 2, 3, 4, 5, 6])\n",
    "split_1d = np.array_split(arr_split_1d, 3)\n",
    "print(\"Splitting 1D array into 3 parts:\", split_1d)\n",
    "\n",
    "\n",
    "#### Splitting 2D Array:\n",
    "\n",
    "# Splitting a 2D array\n",
    "arr_split_2d = np.array([[1, 2, 3], [4, 5, 6], [7, 8, 9]])\n",
    "\n",
    "# Splitting along rows (axis=0)\n",
    "split_2d_rows = np.array_split(arr_split_2d, 3, axis=0)\n",
    "print(\"Splitting 2D array into 3 parts along rows:\\n\", split_2d_rows)\n",
    "\n",
    "\n",
    "# Splitting along columns (axis=1)\n",
    "split_2d_cols = np.array_split(arr_split_2d, 3, axis=1)\n",
    "print(\"Splitting 2D array into 3 parts along columns:\\n\", split_2d_cols)\n",
    "# Output:\n",
    "# [array([[1],\n",
    "#         [4],\n",
    "#         [7]]), \n",
    "#  array([[2],\n",
    "#         [5],\n",
    "#         [8]]), \n",
    "#  array([[3],\n",
    "#         [6],\n",
    "#         [9]])]\n",
    "```\n"
   ]
  },
  {
   "cell_type": "code",
   "execution_count": null,
   "id": "ebe3e7bf-a62d-4d24-bcfe-843a592e2ed7",
   "metadata": {},
   "outputs": [],
   "source": []
  },
  {
   "cell_type": "code",
   "execution_count": null,
   "id": "f5c567ec-445c-4c55-bf7f-7496541f25e5",
   "metadata": {},
   "outputs": [],
   "source": []
  },
  {
   "cell_type": "code",
   "execution_count": null,
   "id": "e2143287-c733-406b-927c-3e4c57a41a81",
   "metadata": {},
   "outputs": [],
   "source": []
  }
 ],
 "metadata": {
  "kernelspec": {
   "display_name": "Python 3 (ipykernel)",
   "language": "python",
   "name": "python3"
  },
  "language_info": {
   "codemirror_mode": {
    "name": "ipython",
    "version": 3
   },
   "file_extension": ".py",
   "mimetype": "text/x-python",
   "name": "python",
   "nbconvert_exporter": "python",
   "pygments_lexer": "ipython3",
   "version": "3.12.4"
  }
 },
 "nbformat": 4,
 "nbformat_minor": 5
}
