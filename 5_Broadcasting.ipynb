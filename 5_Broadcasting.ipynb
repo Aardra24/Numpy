{
 "cells": [
  {
   "cell_type": "markdown",
   "id": "2111859d-730c-4038-9507-5b94ffeeb53a",
   "metadata": {},
   "source": [
    "## Broadcasting in NumPy\n"
   ]
  },
  {
   "cell_type": "markdown",
   "id": "34acbbfa-a69b-45d4-b2a0-bd7242355434",
   "metadata": {},
   "source": [
    "Broadcasting is a powerful mechanism that allows NumPy to perform arithmetic operations on arrays of different shapes. It works by stretching the smaller array across the larger array so that they have compatible shapes.\n",
    "\n",
    "### Working\n",
    "\n",
    "When performing operations on two arrays, NumPy compares their shapes element-wise. It starts with the trailing dimensions and works its way backward. Two dimensions are compatible when:\n",
    "- They are equal, or\n",
    "- One of them is 1\n",
    "\n",
    "If the shapes are not compatible, NumPy throws a `ValueError`.\n"
   ]
  },
  {
   "cell_type": "markdown",
   "id": "9fb82adb-a215-4ebe-a3be-9538c782c1c5",
   "metadata": {},
   "source": [
    "### Example of Broadcasting\n",
    "\n",
    "array `A` of shape (3, 1) and an array `B` of shape (1, 4):\n",
    "\n",
    "\n"
   ]
  },
  {
   "cell_type": "code",
   "execution_count": 5,
   "id": "e39a5910-5ad8-4a97-8b83-8cf4424eaa8b",
   "metadata": {},
   "outputs": [
    {
     "name": "stdout",
     "output_type": "stream",
     "text": [
      "[[ 5  6  7  8]\n",
      " [ 6  7  8  9]\n",
      " [ 7  8  9 10]]\n"
     ]
    }
   ],
   "source": [
    "import numpy as np\n",
    "\n",
    "A = np.array([[1], [2], [3]])  # Shape (3, 1)\n",
    "B = np.array([[4, 5, 6, 7]])    # Shape (1, 4)\n",
    "\n",
    "##When we add these two arrays, NumPy will broadcast `A` and `B` to a common shape\n",
    "\n",
    "C = A + B\n",
    "print(C)"
   ]
  },
  {
   "cell_type": "markdown",
   "id": "5f9aab8a-a604-44d2-b39b-c6c767cb560f",
   "metadata": {},
   "source": [
    "### Step-by-Step Broadcasting:\n",
    "\n",
    "1. `A` is broadcasted from (3, 1) to (3, 4):\n",
    "   \n",
    "   [[1, 1, 1, 1],\n",
    "    [2, 2, 2, 2],\n",
    "    [3, 3, 3, 3]]\n",
    "   \n",
    "\n",
    "2. `B` is broadcasted from (1, 4) to (3, 4):\n",
    "   \n",
    "   [[4, 5, 6, 7],\n",
    "    [4, 5, 6, 7],\n",
    "    [4, 5, 6, 7]]\n",
    "   \n",
    "\n",
    "3. The resulting array `C` is the element-wise sum of the broadcasted `A` and `B`:\n",
    "   \n",
    "   [[ 5,  6,  7,  8],\n",
    "    [ 6,  7,  8,  9],\n",
    "    [ 7,  8,  9, 10]]\n",
    "   "
   ]
  },
  {
   "cell_type": "markdown",
   "id": "78eb0b5a-a3e0-4827-a285-16b21975810b",
   "metadata": {},
   "source": [
    "\n",
    "### Why is Broadcasting Useful?\n",
    "\n",
    "- **Efficiency:** Broadcasting eliminates the need to create copies of arrays for element-wise operations, saving memory and improving performance.\n",
    "- **Simplicity:** It allows for writing more concise and readable code.\n",
    "\n",
    "### Note\n",
    "\n",
    "Remember that broadcasting follows strict rules for compatibility. Always ensure that the shapes of your arrays align according to these rules to avoid errors.\n"
   ]
  }
 ],
 "metadata": {
  "kernelspec": {
   "display_name": "Python 3 (ipykernel)",
   "language": "python",
   "name": "python3"
  },
  "language_info": {
   "codemirror_mode": {
    "name": "ipython",
    "version": 3
   },
   "file_extension": ".py",
   "mimetype": "text/x-python",
   "name": "python",
   "nbconvert_exporter": "python",
   "pygments_lexer": "ipython3",
   "version": "3.12.4"
  }
 },
 "nbformat": 4,
 "nbformat_minor": 5
}
