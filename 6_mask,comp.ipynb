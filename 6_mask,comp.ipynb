{
 "cells": [
  {
   "cell_type": "markdown",
   "id": "1768c00e-c28b-4ac8-9e97-3031be67eaca",
   "metadata": {},
   "source": [
    "### Comparisons, Masks, and Boolean Logic\n",
    "\n",
    "#### What are Boolean Masks?\n",
    "Boolean masks are used to examine and manipulate values in NumPy arrays based on certain conditions. For example, you might want to count values greater than a specific number or remove values that are considered outliers.\n",
    "\n",
    "#### Example: Counting Rainy Days\n",
    "Imagine you have daily rainfall data for a city. You can use Boolean masks to perform operations like counting how many days had rainfall above a certain threshold.\n",
    "\n",
    "\n"
   ]
  },
  {
   "cell_type": "markdown",
   "id": "9b2e5890-139b-4a58-97f7-d77f63e5e372",
   "metadata": {},
   "source": [
    "#### Basic Comparisons\n",
    "\n"
   ]
  },
  {
   "cell_type": "code",
   "execution_count": 4,
   "id": "e35bf052-41aa-40dd-af66-7314dca68b35",
   "metadata": {},
   "outputs": [
    {
     "name": "stdout",
     "output_type": "stream",
     "text": [
      "[False False False  True  True]\n"
     ]
    }
   ],
   "source": [
    "import numpy as np\n",
    "\n",
    "data = np.array([1, 2, 3, 4, 5])\n",
    "mask = data > 3\n",
    "print(mask)"
   ]
  },
  {
   "cell_type": "markdown",
   "id": "fd76791d-ccae-40f2-b25f-df9dd4412c15",
   "metadata": {},
   "source": [
    "\n",
    "#### Combining Masks\n",
    "Combine multiple conditions using logical operators (`&` for 'and', `|` for 'or').\n"
   ]
  },
  {
   "cell_type": "code",
   "execution_count": 9,
   "id": "1c6fd7aa-7046-4ce8-a325-8595a32fc3ee",
   "metadata": {},
   "outputs": [
    {
     "name": "stdout",
     "output_type": "stream",
     "text": [
      "[False False  True  True False]\n"
     ]
    }
   ],
   "source": [
    "mask = (data > 2) & (data < 5)\n",
    "print(mask)\n"
   ]
  },
  {
   "cell_type": "markdown",
   "id": "973ca066-de97-4299-a6af-123ba46ca15a",
   "metadata": {},
   "source": [
    "\n",
    "#### Using Boolean Masks\n",
    "Once you have a Boolean mask, you can use it to index and manipulate the array.\n",
    "\n"
   ]
  },
  {
   "cell_type": "code",
   "execution_count": 13,
   "id": "1686fe82-8db6-46fd-b64a-fcd572762785",
   "metadata": {},
   "outputs": [
    {
     "name": "stdout",
     "output_type": "stream",
     "text": [
      "[3 4]\n"
     ]
    }
   ],
   "source": [
    "filtered_data = data[mask]\n",
    "print(filtered_data)"
   ]
  },
  {
   "cell_type": "markdown",
   "id": "032b7ea7-4966-4150-a0a6-fd7e41699233",
   "metadata": {},
   "source": [
    "\n",
    "#### Note\n",
    "- Use `&` and `|` instead of `and` and `or` when working with NumPy arrays.\n",
    "- `and` and `or` evaluate the entire object, while `&` and `|` evaluate each element individually.\n",
    "\n",
    "### Key Points\n",
    "- Boolean masks are powerful tools for examining and manipulating NumPy arrays.\n",
    "- Use comparisons to create Boolean arrays.\n",
    "- Combine masks with `&` (and) and `|` (or).\n",
    "- Use masks to filter and modify arrays."
   ]
  }
 ],
 "metadata": {
  "kernelspec": {
   "display_name": "Python 3 (ipykernel)",
   "language": "python",
   "name": "python3"
  },
  "language_info": {
   "codemirror_mode": {
    "name": "ipython",
    "version": 3
   },
   "file_extension": ".py",
   "mimetype": "text/x-python",
   "name": "python",
   "nbconvert_exporter": "python",
   "pygments_lexer": "ipython3",
   "version": "3.12.4"
  }
 },
 "nbformat": 4,
 "nbformat_minor": 5
}
